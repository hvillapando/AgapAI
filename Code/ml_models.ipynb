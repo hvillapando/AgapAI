{
 "cells": [
  {
   "cell_type": "markdown",
   "id": "e029eb56",
   "metadata": {},
   "source": [
    "# 0. Import libraries and load dataset"
   ]
  },
  {
   "cell_type": "code",
   "execution_count": 1,
   "id": "cfd52724",
   "metadata": {},
   "outputs": [],
   "source": [
    "import numpy as np\n",
    "import pandas as pd\n",
    "import matplotlib.pyplot as plt\n",
    "from datetime import date\n",
    "\n",
    "import sys"
   ]
  },
  {
   "cell_type": "code",
   "execution_count": 2,
   "id": "68d9964d",
   "metadata": {},
   "outputs": [],
   "source": [
    "# Classification models\n",
    "from xgboost import XGBClassifier\n",
    "from sklearn.ensemble import RandomForestClassifier\n",
    "from sklearn.linear_model import LogisticRegression\n",
    "\n",
    "# Preprocessing\n",
    "from sklearn.preprocessing import StandardScaler, OneHotEncoder\n",
    "from sklearn.compose import ColumnTransformer\n",
    "from sklearn.pipeline import Pipeline\n",
    "\n",
    "from sklearn.model_selection import train_test_split, RandomizedSearchCV\n",
    "from sklearn.metrics import accuracy_score, classification_report, confusion_matrix, roc_auc_score, f1_score, precision_score, recall_score, precision_recall_curve, auc"
   ]
  },
  {
   "cell_type": "markdown",
   "id": "b1943e4f",
   "metadata": {},
   "source": [
    "## Paths"
   ]
  },
  {
   "cell_type": "code",
   "execution_count": 3,
   "id": "306d84e3",
   "metadata": {},
   "outputs": [],
   "source": [
    "# Check whether the code is running in Google Colab or in a local environment\n",
    "IN_COLAB = 'google.colab' in sys.modules\n",
    "\n",
    "if IN_COLAB:\n",
    "  # Mount Google Drive to access datasets\n",
    "  from google.colab import drive, userdata\n",
    "  gdrive_string = '/content/drive'\n",
    "  drive.mount(gdrive_string)\n",
    "\n",
    "  dataset_path = f'{gdrive_string}/MyDrive/BPI DATA Wave 2025/Potential Datasets'\n",
    "  employee_df = pd.read_csv(f'{dataset_path}/banking_employee_data.csv')\n",
    "else:\n",
    "  # Local environment setup\n",
    "  dataset_path = '../Datasets'\n",
    "  employee_df = pd.read_csv(f'{dataset_path}/banking_employee_data.csv')"
   ]
  },
  {
   "cell_type": "code",
   "execution_count": 4,
   "id": "8329cb90",
   "metadata": {},
   "outputs": [
    {
     "data": {
      "text/html": [
       "<div>\n",
       "<style scoped>\n",
       "    .dataframe tbody tr th:only-of-type {\n",
       "        vertical-align: middle;\n",
       "    }\n",
       "\n",
       "    .dataframe tbody tr th {\n",
       "        vertical-align: top;\n",
       "    }\n",
       "\n",
       "    .dataframe thead th {\n",
       "        text-align: right;\n",
       "    }\n",
       "</style>\n",
       "<table border=\"1\" class=\"dataframe\">\n",
       "  <thead>\n",
       "    <tr style=\"text-align: right;\">\n",
       "      <th></th>\n",
       "      <th>Department</th>\n",
       "      <th>Gender</th>\n",
       "      <th>Job_Title</th>\n",
       "      <th>Employee_ID</th>\n",
       "      <th>Age</th>\n",
       "      <th>Hire_Date</th>\n",
       "      <th>Years_At_Company</th>\n",
       "      <th>Education_Level</th>\n",
       "      <th>Performance_Score</th>\n",
       "      <th>Monthly_Salary</th>\n",
       "      <th>...</th>\n",
       "      <th>Overtime_Hours</th>\n",
       "      <th>Sick_Days</th>\n",
       "      <th>Remote_Work_Frequency</th>\n",
       "      <th>Team_Size</th>\n",
       "      <th>Training_Hours</th>\n",
       "      <th>Promotions</th>\n",
       "      <th>Employee_Satisfaction_Score</th>\n",
       "      <th>Resigned</th>\n",
       "      <th>Resignation_Date</th>\n",
       "      <th>Hiring_Age</th>\n",
       "    </tr>\n",
       "  </thead>\n",
       "  <tbody>\n",
       "    <tr>\n",
       "      <th>0</th>\n",
       "      <td>Retail Banking</td>\n",
       "      <td>Male</td>\n",
       "      <td>Branch Manager</td>\n",
       "      <td>1</td>\n",
       "      <td>60</td>\n",
       "      <td>1988-01-01</td>\n",
       "      <td>37.60</td>\n",
       "      <td>Bachelor</td>\n",
       "      <td>3.22</td>\n",
       "      <td>149436</td>\n",
       "      <td>...</td>\n",
       "      <td>0</td>\n",
       "      <td>5</td>\n",
       "      <td>4</td>\n",
       "      <td>2</td>\n",
       "      <td>19</td>\n",
       "      <td>4</td>\n",
       "      <td>3.11</td>\n",
       "      <td>False</td>\n",
       "      <td>NaN</td>\n",
       "      <td>22</td>\n",
       "    </tr>\n",
       "    <tr>\n",
       "      <th>1</th>\n",
       "      <td>Retail Banking</td>\n",
       "      <td>Female</td>\n",
       "      <td>Branch Manager</td>\n",
       "      <td>2</td>\n",
       "      <td>60</td>\n",
       "      <td>1988-01-01</td>\n",
       "      <td>37.60</td>\n",
       "      <td>Bachelor</td>\n",
       "      <td>3.70</td>\n",
       "      <td>220296</td>\n",
       "      <td>...</td>\n",
       "      <td>3</td>\n",
       "      <td>2</td>\n",
       "      <td>3</td>\n",
       "      <td>8</td>\n",
       "      <td>41</td>\n",
       "      <td>4</td>\n",
       "      <td>4.07</td>\n",
       "      <td>False</td>\n",
       "      <td>NaN</td>\n",
       "      <td>22</td>\n",
       "    </tr>\n",
       "    <tr>\n",
       "      <th>2</th>\n",
       "      <td>Compliance</td>\n",
       "      <td>Male</td>\n",
       "      <td>Compliance Officer</td>\n",
       "      <td>3</td>\n",
       "      <td>60</td>\n",
       "      <td>1988-01-02</td>\n",
       "      <td>37.60</td>\n",
       "      <td>Bachelor</td>\n",
       "      <td>3.62</td>\n",
       "      <td>161636</td>\n",
       "      <td>...</td>\n",
       "      <td>0</td>\n",
       "      <td>5</td>\n",
       "      <td>2</td>\n",
       "      <td>6</td>\n",
       "      <td>10</td>\n",
       "      <td>3</td>\n",
       "      <td>3.19</td>\n",
       "      <td>False</td>\n",
       "      <td>NaN</td>\n",
       "      <td>22</td>\n",
       "    </tr>\n",
       "    <tr>\n",
       "      <th>3</th>\n",
       "      <td>Risk Management</td>\n",
       "      <td>Male</td>\n",
       "      <td>Risk Manager</td>\n",
       "      <td>4</td>\n",
       "      <td>60</td>\n",
       "      <td>1988-01-04</td>\n",
       "      <td>37.59</td>\n",
       "      <td>Master</td>\n",
       "      <td>3.28</td>\n",
       "      <td>228415</td>\n",
       "      <td>...</td>\n",
       "      <td>13</td>\n",
       "      <td>6</td>\n",
       "      <td>3</td>\n",
       "      <td>3</td>\n",
       "      <td>32</td>\n",
       "      <td>2</td>\n",
       "      <td>2.59</td>\n",
       "      <td>False</td>\n",
       "      <td>NaN</td>\n",
       "      <td>22</td>\n",
       "    </tr>\n",
       "    <tr>\n",
       "      <th>4</th>\n",
       "      <td>Compliance</td>\n",
       "      <td>Female</td>\n",
       "      <td>Compliance Officer</td>\n",
       "      <td>5</td>\n",
       "      <td>60</td>\n",
       "      <td>1988-01-04</td>\n",
       "      <td>37.59</td>\n",
       "      <td>Bachelor</td>\n",
       "      <td>3.31</td>\n",
       "      <td>165926</td>\n",
       "      <td>...</td>\n",
       "      <td>13</td>\n",
       "      <td>6</td>\n",
       "      <td>4</td>\n",
       "      <td>21</td>\n",
       "      <td>16</td>\n",
       "      <td>2</td>\n",
       "      <td>3.18</td>\n",
       "      <td>False</td>\n",
       "      <td>NaN</td>\n",
       "      <td>22</td>\n",
       "    </tr>\n",
       "  </tbody>\n",
       "</table>\n",
       "<p>5 rows × 22 columns</p>\n",
       "</div>"
      ],
      "text/plain": [
       "        Department  Gender           Job_Title  Employee_ID  Age   Hire_Date  \\\n",
       "0   Retail Banking    Male      Branch Manager            1   60  1988-01-01   \n",
       "1   Retail Banking  Female      Branch Manager            2   60  1988-01-01   \n",
       "2       Compliance    Male  Compliance Officer            3   60  1988-01-02   \n",
       "3  Risk Management    Male        Risk Manager            4   60  1988-01-04   \n",
       "4       Compliance  Female  Compliance Officer            5   60  1988-01-04   \n",
       "\n",
       "   Years_At_Company Education_Level  Performance_Score  Monthly_Salary  ...  \\\n",
       "0             37.60        Bachelor               3.22          149436  ...   \n",
       "1             37.60        Bachelor               3.70          220296  ...   \n",
       "2             37.60        Bachelor               3.62          161636  ...   \n",
       "3             37.59          Master               3.28          228415  ...   \n",
       "4             37.59        Bachelor               3.31          165926  ...   \n",
       "\n",
       "   Overtime_Hours  Sick_Days  Remote_Work_Frequency  Team_Size  \\\n",
       "0               0          5                      4          2   \n",
       "1               3          2                      3          8   \n",
       "2               0          5                      2          6   \n",
       "3              13          6                      3          3   \n",
       "4              13          6                      4         21   \n",
       "\n",
       "   Training_Hours  Promotions  Employee_Satisfaction_Score  Resigned  \\\n",
       "0              19           4                         3.11     False   \n",
       "1              41           4                         4.07     False   \n",
       "2              10           3                         3.19     False   \n",
       "3              32           2                         2.59     False   \n",
       "4              16           2                         3.18     False   \n",
       "\n",
       "   Resignation_Date  Hiring_Age  \n",
       "0               NaN          22  \n",
       "1               NaN          22  \n",
       "2               NaN          22  \n",
       "3               NaN          22  \n",
       "4               NaN          22  \n",
       "\n",
       "[5 rows x 22 columns]"
      ]
     },
     "execution_count": 4,
     "metadata": {},
     "output_type": "execute_result"
    }
   ],
   "source": [
    "employee_df.head()"
   ]
  },
  {
   "cell_type": "code",
   "execution_count": 5,
   "id": "b2e02e5d",
   "metadata": {},
   "outputs": [
    {
     "name": "stdout",
     "output_type": "stream",
     "text": [
      "<class 'pandas.core.frame.DataFrame'>\n",
      "RangeIndex: 100000 entries, 0 to 99999\n",
      "Data columns (total 22 columns):\n",
      " #   Column                       Non-Null Count   Dtype  \n",
      "---  ------                       --------------   -----  \n",
      " 0   Department                   100000 non-null  object \n",
      " 1   Gender                       100000 non-null  object \n",
      " 2   Job_Title                    100000 non-null  object \n",
      " 3   Employee_ID                  100000 non-null  int64  \n",
      " 4   Age                          100000 non-null  int64  \n",
      " 5   Hire_Date                    100000 non-null  object \n",
      " 6   Years_At_Company             100000 non-null  float64\n",
      " 7   Education_Level              100000 non-null  object \n",
      " 8   Performance_Score            100000 non-null  float64\n",
      " 9   Monthly_Salary               100000 non-null  int64  \n",
      " 10  Work_Hours_Per_Week          100000 non-null  int64  \n",
      " 11  Projects_Handled             100000 non-null  int64  \n",
      " 12  Overtime_Hours               100000 non-null  int64  \n",
      " 13  Sick_Days                    100000 non-null  int64  \n",
      " 14  Remote_Work_Frequency        100000 non-null  int64  \n",
      " 15  Team_Size                    100000 non-null  int64  \n",
      " 16  Training_Hours               100000 non-null  int64  \n",
      " 17  Promotions                   100000 non-null  int64  \n",
      " 18  Employee_Satisfaction_Score  100000 non-null  float64\n",
      " 19  Resigned                     100000 non-null  bool   \n",
      " 20  Resignation_Date             22917 non-null   object \n",
      " 21  Hiring_Age                   100000 non-null  int64  \n",
      "dtypes: bool(1), float64(3), int64(12), object(6)\n",
      "memory usage: 16.1+ MB\n"
     ]
    }
   ],
   "source": [
    "employee_df.info()"
   ]
  },
  {
   "cell_type": "markdown",
   "id": "0d160204",
   "metadata": {},
   "source": [
    "# 1. Modeling"
   ]
  },
  {
   "cell_type": "markdown",
   "id": "bbc3d087",
   "metadata": {},
   "source": [
    "## 1.1 Feature Engineering"
   ]
  },
  {
   "cell_type": "code",
   "execution_count": 6,
   "id": "0984022c",
   "metadata": {},
   "outputs": [],
   "source": [
    "# Set target\n",
    "target = \"Resigned\"\n",
    "cols_to_drop = [\"Employee_ID\", \"Hire_Date\", \"Resignation_Date\", \"Hiring_Age\", target]\n",
    "\n",
    "X = employee_df.drop(columns=cols_to_drop)\n",
    "y = employee_df[target].astype('int')\n",
    "\n",
    "# Split the data into train and test sets\n",
    "X_train, X_test, y_train, y_test = train_test_split(X, y, test_size=0.2, random_state=42, stratify=y)"
   ]
  },
  {
   "cell_type": "code",
   "execution_count": 7,
   "id": "2a023322",
   "metadata": {},
   "outputs": [
    {
     "data": {
      "text/plain": [
       "Index(['Department', 'Gender', 'Job_Title', 'Age', 'Years_At_Company',\n",
       "       'Education_Level', 'Performance_Score', 'Monthly_Salary',\n",
       "       'Work_Hours_Per_Week', 'Projects_Handled', 'Overtime_Hours',\n",
       "       'Sick_Days', 'Remote_Work_Frequency', 'Team_Size', 'Training_Hours',\n",
       "       'Promotions', 'Employee_Satisfaction_Score'],\n",
       "      dtype='object')"
      ]
     },
     "execution_count": 7,
     "metadata": {},
     "output_type": "execute_result"
    }
   ],
   "source": [
    "X.columns"
   ]
  },
  {
   "cell_type": "code",
   "execution_count": 8,
   "id": "96d1d418",
   "metadata": {},
   "outputs": [
    {
     "name": "stdout",
     "output_type": "stream",
     "text": [
      "['Age', 'Years_At_Company', 'Performance_Score', 'Monthly_Salary', 'Work_Hours_Per_Week', 'Projects_Handled', 'Overtime_Hours', 'Sick_Days', 'Remote_Work_Frequency', 'Team_Size', 'Training_Hours', 'Promotions', 'Employee_Satisfaction_Score']\n",
      "['Department', 'Gender', 'Job_Title', 'Education_Level']\n"
     ]
    }
   ],
   "source": [
    "num_cols = X.select_dtypes(include=['int64', 'float64']).columns.tolist()\n",
    "cat_cols = X.select_dtypes(include=['object', 'category']).columns.tolist()\n",
    "\n",
    "print(num_cols)\n",
    "print(cat_cols)"
   ]
  },
  {
   "cell_type": "code",
   "execution_count": 9,
   "id": "36d44926",
   "metadata": {},
   "outputs": [],
   "source": [
    "# Create a preprocessor\n",
    "preprocessor = ColumnTransformer(\n",
    "  transformers=[\n",
    "    ('num', StandardScaler(), num_cols),\n",
    "    ('cat', OneHotEncoder(handle_unknown='ignore'), cat_cols)\n",
    "  ],\n",
    "  remainder='passthrough'\n",
    ")"
   ]
  },
  {
   "cell_type": "markdown",
   "id": "3c2fada3",
   "metadata": {},
   "source": [
    "## XGBoost"
   ]
  },
  {
   "cell_type": "code",
   "execution_count": 10,
   "id": "c902aaad",
   "metadata": {},
   "outputs": [
    {
     "name": "stdout",
     "output_type": "stream",
     "text": [
      "Metrics of XGBoost:\n",
      "Accuracy: 0.83645\n",
      "ROC AUC: 0.9270981953705321\n",
      "PR AUC: 0.8028099714118426\n",
      "Training Accuracy: 0.864225\n",
      "\n",
      "Classification Report:\n",
      "               precision    recall  f1-score   support\n",
      "\n",
      "           0       0.95      0.83      0.89     15417\n",
      "           1       0.60      0.86      0.71      4583\n",
      "\n",
      "    accuracy                           0.84     20000\n",
      "   macro avg       0.78      0.84      0.80     20000\n",
      "weighted avg       0.87      0.84      0.85     20000\n",
      "\n",
      "Confusion Matrix:\n",
      " [[12793  2624]\n",
      " [  647  3936]]\n"
     ]
    }
   ],
   "source": [
    "# Create a pipeline for XGBoost\n",
    "scale_pos_weight = (y_train == 0).sum() / (y_train == 1).sum()\n",
    "\n",
    "pipe_xgb = Pipeline(steps=[\n",
    "    ('preprocessor', preprocessor),\n",
    "    ('classifier', XGBClassifier(eval_metric='aucpr', scale_pos_weight=scale_pos_weight))\n",
    "])\n",
    "\n",
    "pipe_xgb.fit(X_train, y_train)\n",
    "\n",
    "y_pred_xgb = pipe_xgb.predict(X_test)\n",
    "y_prob_xgb = pipe_xgb.predict_proba(X_test)[:, 1]\n",
    "\n",
    "precision_xgb, recall_xgb, _ = precision_recall_curve(y_test, y_prob_xgb)\n",
    "\n",
    "print(\"Metrics of XGBoost:\")\n",
    "print(f'Accuracy: {accuracy_score(y_test, y_pred_xgb)}')\n",
    "print(f'ROC AUC: {roc_auc_score(y_test, y_prob_xgb)}')\n",
    "print(f'PR AUC: {auc(recall_xgb, precision_xgb)}')\n",
    "print(f'Training Accuracy: {accuracy_score(y_train, pipe_xgb.predict(X_train))}')\n",
    "print(f'\\nClassification Report:\\n {classification_report(y_test, y_pred_xgb)}')\n",
    "print(f'Confusion Matrix:\\n {confusion_matrix(y_test, y_pred_xgb)}')"
   ]
  },
  {
   "cell_type": "markdown",
   "id": "4469e690",
   "metadata": {},
   "source": [
    "## Logistic Regression"
   ]
  },
  {
   "cell_type": "code",
   "execution_count": 11,
   "id": "8d49621e",
   "metadata": {},
   "outputs": [
    {
     "name": "stdout",
     "output_type": "stream",
     "text": [
      "Metrics of Logistic Regression:\n",
      "Accuracy: 0.84145\n",
      "ROC AUC: 0.8795857728427766\n",
      "PR AUC: 0.7016169435505395\n",
      "Training Accuracy: 0.8396\n",
      "\n",
      "Classification Report:\n",
      "               precision    recall  f1-score   support\n",
      "\n",
      "           0       0.87      0.94      0.90     15417\n",
      "           1       0.71      0.53      0.60      4583\n",
      "\n",
      "    accuracy                           0.84     20000\n",
      "   macro avg       0.79      0.73      0.75     20000\n",
      "weighted avg       0.83      0.84      0.83     20000\n",
      "\n",
      "Confusion Matrix:\n",
      " [[14419   998]\n",
      " [ 2173  2410]]\n"
     ]
    }
   ],
   "source": [
    "pipe_logreg = Pipeline(steps=[\n",
    "    ('preprocessor', preprocessor),\n",
    "    ('classifier', LogisticRegression())\n",
    "])\n",
    "\n",
    "pipe_logreg.fit(X_train, y_train)\n",
    "\n",
    "y_pred_logreg = pipe_logreg.predict(X_test)\n",
    "y_prob_logreg = pipe_logreg.predict_proba(X_test)[:, 1]\n",
    "\n",
    "precision_logreg, recall_logreg, _ = precision_recall_curve(y_test, y_prob_logreg)\n",
    "\n",
    "print(\"Metrics of Logistic Regression:\")\n",
    "print(f'Accuracy: {accuracy_score(y_test, y_pred_logreg)}')\n",
    "print(f'ROC AUC: {roc_auc_score(y_test, y_prob_logreg)}')\n",
    "print(f'PR AUC: {auc(recall_logreg, precision_logreg)}')\n",
    "print(f'Training Accuracy: {accuracy_score(y_train, pipe_logreg.predict(X_train))}')\n",
    "print(f'\\nClassification Report:\\n {classification_report(y_test, y_pred_logreg)}')\n",
    "print(f'Confusion Matrix:\\n {confusion_matrix(y_test, y_pred_logreg)}')"
   ]
  },
  {
   "cell_type": "markdown",
   "id": "fe7fb166",
   "metadata": {},
   "source": [
    "# 2. Hyperparameter Tuning"
   ]
  },
  {
   "cell_type": "markdown",
   "id": "64f8d24b",
   "metadata": {},
   "source": [
    "## RandomSearchCV"
   ]
  },
  {
   "cell_type": "code",
   "execution_count": 12,
   "id": "a949232d",
   "metadata": {},
   "outputs": [],
   "source": [
    "# Parameter tuning for XGBoost\n",
    "xgb_tuned = XGBClassifier(\n",
    "  eval_metric='aucpr',\n",
    "  scale_pos_weight=scale_pos_weight\n",
    ")\n",
    "\n",
    "# Define parameter grid\n",
    "param_grid = {\n",
    "  'n_estimators': [500, 600, 700, 800, 900, 1000],\n",
    "  'max_depth': [3, 5, 7],\n",
    "  'learning_rate': [0.05, 0.1, 0.2, 0.3]\n",
    "}\n",
    "\n",
    "# Perform random search\n",
    "random_search = RandomizedSearchCV(xgb_tuned, param_grid, n_iter=10, cv=10, scoring='f1', n_jobs=-1)\n",
    "random_precision = RandomizedSearchCV(xgb_tuned, param_grid, n_iter=10, cv=10, scoring='precision', n_jobs=-1)\n",
    "random_recall = RandomizedSearchCV(xgb_tuned, param_grid, n_iter=10, cv=10, scoring='recall', n_jobs=-1)"
   ]
  },
  {
   "cell_type": "markdown",
   "id": "f402c43e",
   "metadata": {},
   "source": [
    "### F1 score-focused"
   ]
  },
  {
   "cell_type": "code",
   "execution_count": 13,
   "id": "c596a41b",
   "metadata": {},
   "outputs": [
    {
     "name": "stdout",
     "output_type": "stream",
     "text": [
      "XGBoost Random Search Model (F1 focus)\n",
      "Best Parameters: {'n_estimators': 900, 'max_depth': 7, 'learning_rate': 0.1}\n",
      "Accuracy: 0.8502\n",
      "ROC AUC: 0.9246147654517811\n",
      "PR AUC: 0.799844959655418\n",
      "Training Accuracy: 0.9497375\n",
      "\n",
      "Classification Report:\n",
      "               precision    recall  f1-score   support\n",
      "\n",
      "           0       0.93      0.87      0.90     15417\n",
      "           1       0.64      0.79      0.71      4583\n",
      "\n",
      "    accuracy                           0.85     20000\n",
      "   macro avg       0.79      0.83      0.80     20000\n",
      "weighted avg       0.87      0.85      0.86     20000\n",
      "\n",
      "Confusion Matrix:\n",
      " [[13383  2034]\n",
      " [  962  3621]]\n"
     ]
    }
   ],
   "source": [
    "# Create a pipeline for XGBoost RandomSearchCV (F1)\n",
    "pipe_xgb_random = Pipeline(steps=[\n",
    "  ('preprocessor', preprocessor),\n",
    "  ('random_search', random_search)\n",
    "])\n",
    "\n",
    "pipe_xgb_random.fit(X_train, y_train)\n",
    "\n",
    "y_pred_xgb_random = pipe_xgb_random.predict(X_test)\n",
    "y_prob_xgb_random = pipe_xgb_random.predict_proba(X_test)[:,1]\n",
    "\n",
    "precision_xgb_random, recall_xgb_random, _ = precision_recall_curve(y_test, y_prob_xgb_random)\n",
    "\n",
    "best_params_xgb_f1 = pipe_xgb_random.named_steps[\"random_search\"].best_params_\n",
    "\n",
    "print(\"XGBoost Random Search Model (F1 focus)\")\n",
    "print(f'Best Parameters: {best_params_xgb_f1}')\n",
    "print(f'Accuracy: {accuracy_score(y_test, y_pred_xgb_random)}')\n",
    "print(f'ROC AUC: {roc_auc_score(y_test, y_prob_xgb_random)}')\n",
    "print(f'PR AUC: {auc(recall_xgb_random, precision_xgb_random)}')\n",
    "print(f'Training Accuracy: {accuracy_score(y_train, pipe_xgb_random.predict(X_train))}')\n",
    "print(f'\\nClassification Report:\\n {classification_report(y_test, y_pred_xgb_random)}')\n",
    "print(f'Confusion Matrix:\\n {confusion_matrix(y_test, y_pred_xgb_random)}')"
   ]
  },
  {
   "cell_type": "markdown",
   "id": "9dcb10bc",
   "metadata": {},
   "source": [
    "### Precision-focused"
   ]
  },
  {
   "cell_type": "code",
   "execution_count": 14,
   "id": "165a5158",
   "metadata": {},
   "outputs": [
    {
     "name": "stdout",
     "output_type": "stream",
     "text": [
      "XGBoost Random Search Model (Precision focus)\n",
      "Best Parameters: {'n_estimators': 500, 'max_depth': 7, 'learning_rate': 0.2}\n",
      "Accuracy: 0.85185\n",
      "ROC AUC: 0.9225581351342703\n",
      "PR AUC: 0.7933019005737781\n",
      "Training Accuracy: 0.9609\n",
      "\n",
      "Classification Report:\n",
      "               precision    recall  f1-score   support\n",
      "\n",
      "           0       0.93      0.87      0.90     15417\n",
      "           1       0.65      0.78      0.71      4583\n",
      "\n",
      "    accuracy                           0.85     20000\n",
      "   macro avg       0.79      0.83      0.80     20000\n",
      "weighted avg       0.87      0.85      0.86     20000\n",
      "\n",
      "Confusion Matrix:\n",
      " [[13443  1974]\n",
      " [  989  3594]]\n"
     ]
    }
   ],
   "source": [
    "# Create a pipeline for XGBoost RandomSearchCV (Precision)\n",
    "pipe_xgb_random = Pipeline(steps=[\n",
    "  ('preprocessor', preprocessor),\n",
    "  ('random_search', random_precision)\n",
    "])\n",
    "\n",
    "pipe_xgb_random.fit(X_train, y_train)\n",
    "\n",
    "y_pred_xgb_random = pipe_xgb_random.predict(X_test)\n",
    "y_prob_xgb_random = pipe_xgb_random.predict_proba(X_test)[:,1]\n",
    "\n",
    "precision_xgb_random, recall_xgb_random, _ = precision_recall_curve(y_test, y_prob_xgb_random)\n",
    "\n",
    "best_params_xgb_precision = pipe_xgb_random.named_steps[\"random_search\"].best_params_\n",
    "\n",
    "print(\"XGBoost Random Search Model (Precision focus)\")\n",
    "print(f'Best Parameters: {best_params_xgb_precision}')\n",
    "print(f'Accuracy: {accuracy_score(y_test, y_pred_xgb_random)}')\n",
    "print(f'ROC AUC: {roc_auc_score(y_test, y_prob_xgb_random)}')\n",
    "print(f'PR AUC: {auc(recall_xgb_random, precision_xgb_random)}')\n",
    "print(f'Training Accuracy: {accuracy_score(y_train, pipe_xgb_random.predict(X_train))}')\n",
    "print(f'\\nClassification Report:\\n {classification_report(y_test, y_pred_xgb_random)}')\n",
    "print(f'Confusion Matrix:\\n {confusion_matrix(y_test, y_pred_xgb_random)}')"
   ]
  },
  {
   "cell_type": "markdown",
   "id": "f6a75853",
   "metadata": {},
   "source": [
    "### Recall-focused"
   ]
  },
  {
   "cell_type": "code",
   "execution_count": 15,
   "id": "e83acf9b",
   "metadata": {},
   "outputs": [
    {
     "name": "stdout",
     "output_type": "stream",
     "text": [
      "XGBoost Random Search Model (Recall focus)\n",
      "Best Parameters: {'n_estimators': 1000, 'max_depth': 3, 'learning_rate': 0.05}\n",
      "Accuracy: 0.8304\n",
      "ROC AUC: 0.9288525871456469\n",
      "PR AUC: 0.8030101887907476\n",
      "Training Accuracy: 0.8359375\n",
      "\n",
      "Classification Report:\n",
      "               precision    recall  f1-score   support\n",
      "\n",
      "           0       0.96      0.82      0.88     15417\n",
      "           1       0.59      0.88      0.70      4583\n",
      "\n",
      "    accuracy                           0.83     20000\n",
      "   macro avg       0.77      0.85      0.79     20000\n",
      "weighted avg       0.87      0.83      0.84     20000\n",
      "\n",
      "Confusion Matrix:\n",
      " [[12581  2836]\n",
      " [  556  4027]]\n"
     ]
    }
   ],
   "source": [
    "# Create a pipeline for XGBoost RandomSearchCV (Recall)\n",
    "pipe_xgb_random = Pipeline(steps=[\n",
    "  ('preprocessor', preprocessor),\n",
    "  ('random_search', random_recall)\n",
    "])\n",
    "\n",
    "pipe_xgb_random.fit(X_train, y_train)\n",
    "\n",
    "y_pred_xgb_random = pipe_xgb_random.predict(X_test)\n",
    "y_prob_xgb_random = pipe_xgb_random.predict_proba(X_test)[:,1]\n",
    "\n",
    "precision_xgb_random, recall_xgb_random, _ = precision_recall_curve(y_test, y_prob_xgb_random)\n",
    "\n",
    "best_params_xgb_recall = pipe_xgb_random.named_steps[\"random_search\"].best_params_\n",
    "\n",
    "print(\"XGBoost Random Search Model (Recall focus)\")\n",
    "print(f'Best Parameters: {best_params_xgb_recall}')\n",
    "print(f'Accuracy: {accuracy_score(y_test, y_pred_xgb_random)}')\n",
    "print(f'ROC AUC: {roc_auc_score(y_test, y_prob_xgb_random)}')\n",
    "print(f'PR AUC: {auc(recall_xgb_random, precision_xgb_random)}')\n",
    "print(f'Training Accuracy: {accuracy_score(y_train, pipe_xgb_random.predict(X_train))}')\n",
    "print(f'\\nClassification Report:\\n {classification_report(y_test, y_pred_xgb_random)}')\n",
    "print(f'Confusion Matrix:\\n {confusion_matrix(y_test, y_pred_xgb_random)}')"
   ]
  },
  {
   "cell_type": "markdown",
   "id": "b82bd1de",
   "metadata": {},
   "source": [
    "*The recall-focused model catches the highest amount of true positives (employees who resigned) and the lowest false negatives (uncatched employees who resigned), which is the primary task of this model, to detect preventable attrition. However, this comes with the lowest precision and high number of false positives (false alarms).*"
   ]
  },
  {
   "cell_type": "markdown",
   "id": "cdbde481",
   "metadata": {},
   "source": [
    "## Find the best threshold for the best XGBoost model (recall-focused model)"
   ]
  },
  {
   "cell_type": "code",
   "execution_count": 16,
   "id": "4da8577d",
   "metadata": {},
   "outputs": [
    {
     "name": "stdout",
     "output_type": "stream",
     "text": [
      "Best Threshold: 0.61\n",
      "  - F1-Score: 0.7194\n",
      "  - Precision: 0.6457\n",
      "  - Recall: 0.8121\n"
     ]
    }
   ],
   "source": [
    "# Create a pipeline for Best XGBoost (Recall)\n",
    "pipe_xgb_best = Pipeline(steps=[\n",
    "  ('preprocessor', preprocessor),\n",
    "  ('best_xgb', XGBClassifier(eval_metric='aucpr', scale_pos_weight=scale_pos_weight, **best_params_xgb_recall))\n",
    "])\n",
    "\n",
    "pipe_xgb_best.fit(X_train, y_train)\n",
    "\n",
    "y_pred_xgb_best = pipe_xgb_best.predict(X_test)\n",
    "y_prob_xgb_best = pipe_xgb_best.predict_proba(X_test)[:,1]\n",
    "\n",
    "# Create a range of thresholds to test\n",
    "thresholds = np.arange(0.1, 0.9, 0.01)\n",
    "f1_scores = []\n",
    "precision_scores = []\n",
    "recall_scores = []\n",
    "\n",
    "# Iterate through each threshold\n",
    "for t in thresholds:\n",
    "  y_pred_tuned = (y_prob_xgb_best >= t).astype(int)\n",
    "  f1_scores.append(f1_score(y_test, y_pred_tuned))\n",
    "  precision_scores.append(precision_score(y_test, y_pred_tuned))\n",
    "  recall_scores.append(recall_score(y_test, y_pred_tuned))\n",
    "\n",
    "# Find the best threshold that maximizes F1-score\n",
    "best_threshold_idx = np.argmax(f1_scores)\n",
    "best_threshold = thresholds[best_threshold_idx]\n",
    "best_f1 = f1_scores[best_threshold_idx]\n",
    "best_precision = precision_scores[best_threshold_idx]\n",
    "best_recall = recall_scores[best_threshold_idx]\n",
    "\n",
    "print(f\"Best Threshold: {best_threshold:.2f}\")\n",
    "print(f\"  - F1-Score: {best_f1:.4f}\")\n",
    "print(f\"  - Precision: {best_precision:.4f}\")\n",
    "print(f\"  - Recall: {best_recall:.4f}\")"
   ]
  },
  {
   "cell_type": "code",
   "execution_count": 17,
   "id": "f0a1c37a",
   "metadata": {},
   "outputs": [
    {
     "data": {
      "image/png": "[encoded data removed]",
      "text/plain": [
       "<Figure size 1000x600 with 1 Axes>"
      ]
     },
     "metadata": {},
     "output_type": "display_data"
    }
   ],
   "source": [
    "# Plotting the metrics vs. thresholds\n",
    "plt.figure(figsize=(10, 6))\n",
    "plt.plot(thresholds, f1_scores, label='F1 Score', color='blue', lw=2)\n",
    "plt.plot(thresholds, precision_scores, label='Precision', color='green', linestyle='--')\n",
    "plt.plot(thresholds, recall_scores, label='Recall', color='red', linestyle='--')\n",
    "\n",
    "# Mark the best threshold\n",
    "plt.axvline(x=best_threshold, color='purple', linestyle=':', label=f'Best Threshold ({best_threshold:.2f})')\n",
    "\n",
    "plt.title('Precision, Recall, and F1-Score vs. Threshold')\n",
    "plt.xlabel('Threshold')\n",
    "plt.ylabel('Score')\n",
    "plt.legend()\n",
    "plt.grid(True)\n",
    "plt.show()"
   ]
  },
  {
   "cell_type": "code",
   "execution_count": 18,
   "id": "f08eeb1f",
   "metadata": {},
   "outputs": [
    {
     "name": "stdout",
     "output_type": "stream",
     "text": [
      "--- Evaluation with Default Threshold (0.5) ---\n",
      "\n",
      "Classification Report:\n",
      "               precision    recall  f1-score   support\n",
      "\n",
      "           0       0.96      0.82      0.88     15417\n",
      "           1       0.59      0.88      0.70      4583\n",
      "\n",
      "    accuracy                           0.83     20000\n",
      "   macro avg       0.77      0.85      0.79     20000\n",
      "weighted avg       0.87      0.83      0.84     20000\n",
      "\n",
      "Confusion Matrix:\n",
      " [[12581  2836]\n",
      " [  556  4027]]\n",
      "\n",
      "\n",
      "--- Evaluation with Tuned Threshold ---\n",
      "Applied threshold: 0.61\n",
      "\n",
      "Classification Report:\n",
      "               precision    recall  f1-score   support\n",
      "\n",
      "           0       0.94      0.87      0.90     15417\n",
      "           1       0.65      0.81      0.72      4583\n",
      "\n",
      "    accuracy                           0.85     20000\n",
      "   macro avg       0.79      0.84      0.81     20000\n",
      "weighted avg       0.87      0.85      0.86     20000\n",
      "\n",
      "Confusion Matrix:\n",
      " [[13375  2042]\n",
      " [  861  3722]]\n"
     ]
    }
   ],
   "source": [
    "y_pred_final = (y_prob_xgb_best >= best_threshold).astype('int')\n",
    "\n",
    "print(\"--- Evaluation with Default Threshold (0.5) ---\")\n",
    "print(f'\\nClassification Report:\\n {classification_report(y_test, y_pred_xgb_best)}')\n",
    "print(f'Confusion Matrix:\\n {confusion_matrix(y_test, y_pred_xgb_best)}')\n",
    "\n",
    "print(\"\\n\\n--- Evaluation with Tuned Threshold ---\")\n",
    "print(f\"Applied threshold: {best_threshold:.2f}\")\n",
    "print(f'\\nClassification Report:\\n {classification_report(y_test, y_pred_final)}')\n",
    "print(f'Confusion Matrix:\\n {confusion_matrix(y_test, y_pred_final)}')"
   ]
  },
  {
   "cell_type": "code",
   "execution_count": 21,
   "id": "316146f4",
   "metadata": {},
   "outputs": [
    {
     "name": "stdout",
     "output_type": "stream",
     "text": [
      "XGBoost Random Search Model (Recall focus, 0.61 threshold)\n",
      "Accuracy: 0.85485\n",
      "ROC AUC: 0.9288525871456469\n",
      "PR AUC: 0.8030101887907476\n",
      "Training Accuracy: 0.8359375\n",
      "\n",
      "Classification Report:\n",
      "               precision    recall  f1-score   support\n",
      "\n",
      "           0       0.94      0.87      0.90     15417\n",
      "           1       0.65      0.81      0.72      4583\n",
      "\n",
      "    accuracy                           0.85     20000\n",
      "   macro avg       0.79      0.84      0.81     20000\n",
      "weighted avg       0.87      0.85      0.86     20000\n",
      "\n",
      "Confusion Matrix:\n",
      " [[13375  2042]\n",
      " [  861  3722]]\n"
     ]
    }
   ],
   "source": [
    "# Create a pipeline for best XGBoost (Recall, modified threshold)\n",
    "pipe_xgb_best = Pipeline(steps=[\n",
    "  ('preprocessor', preprocessor),\n",
    "  ('best_xgb', XGBClassifier(eval_metric='aucpr', scale_pos_weight=scale_pos_weight, **best_params_xgb_recall))\n",
    "])\n",
    "\n",
    "pipe_xgb_best.fit(X_train, y_train)\n",
    "\n",
    "y_prob_xgb_best = pipe_xgb_best.predict_proba(X_test)[:,1]\n",
    "y_pred_xgb_best = (y_prob_xgb_best >= best_threshold).astype(int)\n",
    "\n",
    "precision_xgb_best, recall_xgb_best, _ = precision_recall_curve(y_test, y_prob_xgb_best)\n",
    "\n",
    "print(f'XGBoost Random Search Model (Recall focus, {best_threshold:.2f} threshold)')\n",
    "print(f'Accuracy: {accuracy_score(y_test, y_pred_xgb_best)}')\n",
    "print(f'ROC AUC: {roc_auc_score(y_test, y_prob_xgb_best)}')\n",
    "print(f'PR AUC: {auc(recall_xgb_best, precision_xgb_best)}')\n",
    "print(f'Training Accuracy: {accuracy_score(y_train, pipe_xgb_best.predict(X_train))}')\n",
    "print(f'\\nClassification Report:\\n {classification_report(y_test, y_pred_xgb_best)}')\n",
    "print(f'Confusion Matrix:\\n {confusion_matrix(y_test, y_pred_xgb_best)}')"
   ]
  },
  {
   "cell_type": "markdown",
   "id": "2dfb28cf",
   "metadata": {},
   "source": [
    "*In this model, a compromise was made. The number of false positives (false alarm) dropped from 2836 to 2042. While the number of false negatives (uncatched employees who resigned) increased from 556 to 861. A lower false alarm count means that HR will not waste as much resources checking on false positives, at the cost of increased uncatched employees who will resign. This also provides the best F1 score, the balance between precision and recall. This model's testing and training accuracy are similar, showing no signs of overfitting and can generalize new and unseen data well.*"
   ]
  },
  {
   "cell_type": "code",
   "execution_count": 22,
   "id": "8e23e172",
   "metadata": {},
   "outputs": [
    {
     "data": {
      "image/png": "[encoded data removed]",
      "text/plain": [
       "<Figure size 800x600 with 1 Axes>"
      ]
     },
     "metadata": {},
     "output_type": "display_data"
    }
   ],
   "source": [
    "# Plot the Precision-Recall curve of the best XGBoost model\n",
    "precision, recall, _ = precision_recall_curve(y_test, y_prob_xgb_best)\n",
    "pr_auc_best = auc(recall, precision)\n",
    "\n",
    "plt.figure(figsize=(8, 6))\n",
    "plt.plot(recall, precision, label=f'Best XGBoost Model PR Curve (area = {pr_auc_best})', marker='.')\n",
    "plt.title('Precision-Recall Curve')\n",
    "plt.xlabel('Recall')\n",
    "plt.ylabel('Precision')\n",
    "plt.legend(loc='best')\n",
    "plt.grid()\n",
    "plt.show()"
   ]
  }
 ],
 "metadata": {
  "kernelspec": {
   "display_name": "ds",
   "language": "python",
   "name": "python3"
  },
  "language_info": {
   "codemirror_mode": {
    "name": "ipython",
    "version": 3
   },
   "file_extension": ".py",
   "mimetype": "text/x-python",
   "name": "python",
   "nbconvert_exporter": "python",
   "pygments_lexer": "ipython3",
   "version": "3.13.5"
  }
 },
 "nbformat": 4,
 "nbformat_minor": 5
}
